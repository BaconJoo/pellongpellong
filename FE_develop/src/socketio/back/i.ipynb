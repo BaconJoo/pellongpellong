{
 "cells": [
  {
   "cell_type": "code",
   "execution_count": null,
   "metadata": {},
   "outputs": [],
   "source": [
    "1. npm 초기설정 \n",
    "npm init -y \n",
    "\n",
    "2. 서버, 유틸 설치\n",
    "npm i express, mongoose, cors, dotenv, http\n",
    "\n",
    "\n",
    "3. 소켓io 설치\n",
    " npm i socket.io"
   ]
  }
 ],
 "metadata": {
  "language_info": {
   "name": "python"
  }
 },
 "nbformat": 4,
 "nbformat_minor": 2
}

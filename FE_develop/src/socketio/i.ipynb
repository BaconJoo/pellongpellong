{
 "cells": [
  {
   "cell_type": "markdown",
   "metadata": {},
   "source": [
    "http \n",
    "단방향통신 지속성이x\n",
    "\n",
    "web socket \n",
    "양방향 \n",
    "\n",
    "\n",
    "\n"
   ]
  }
 ],
 "metadata": {
  "language_info": {
   "name": "python"
  }
 },
 "nbformat": 4,
 "nbformat_minor": 2
}
